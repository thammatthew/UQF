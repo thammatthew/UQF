{
  "nbformat": 4,
  "nbformat_minor": 0,
  "metadata": {
    "colab": {
      "provenance": []
    },
    "kernelspec": {
      "name": "python3",
      "display_name": "Python 3"
    },
    "language_info": {
      "name": "python"
    }
  },
  "cells": [
    {
      "cell_type": "markdown",
      "source": [
        "# Instructions\n",
        "\n",
        "1. Create a .zip file containing the **table of questions** and **all referenced images.**\n",
        "  - Easiest method is to select your Google sheet & images, then right-click and download\n",
        "  - Table file can be delimiter-separated values (.csv, .tsv) or excel format (.xlsx, first sheet will be used)\n",
        "  - See [UQF definition](https://docs.google.com/spreadsheets/d/1-23EUnUdjSUW0MOKgnE1u-E1a4_xPn3wsTlRCSUagQ8/edit?usp=sharing) for details & [Example UQF](https://drive.google.com/file/d/1ms0c1LQf1zG7-pYDGUIZ8WJ2FXeL5hsE/view?usp=share_link) for a sample file for testing\n",
        "2. Upload the .zip file to your **OWN** Google drive.\n",
        "  - Ensure you are **NOT** on your batch drive account\n",
        "3. Change options below to match .zip file & output requirements\n",
        "4. On the menu bar (top of the page) click \"Runtime\" and \"Run all\"\n",
        "5. When the dialog box appears, allow the script to access your google drive.\n",
        "6. Wait for UQF to be processed (should take about 2 min)\n",
        "7. Once complete, go back to your drive and download the Q & QnA PDFs created next to the uploaded UQF file.\n",
        "8. To export another UQF file, start again from step 1."
      ],
      "metadata": {
        "id": "icQjcRq0t2Tf"
      }
    },
    {
      "cell_type": "code",
      "source": [
        "#@title # Options\n",
        "#@markdown ### Basic options\n",
        "folder_name = \"uqf\" #@param {type:\"string\"}\n",
        "#@markdown - Drive folder where your .zip is located; leave blank if file is in root of your drive\n",
        "uqf_zip_file_name = \"uqf_example.zip\" #@param {type:\"string\"}\n",
        "#@markdown - Name of your .zip file\n",
        "title = \"Example Questions\" #@param {type:\"string\"}\n",
        "#@markdown - Title you want to be displayed in PDF; leave blank to use filename as title\n",
        "#@markdown ---\n",
        "#@markdown ### PDF encryption\n",
        "#@markdown Provide passwords for viewing & editing, or allow script to generate them automatically.\n",
        "password_protect = True #@param {type:\"boolean\"}\n",
        "view_password = \"\" #@param {type:\"string\"}\n",
        "#@markdown - Password to view PDF; leave blank to generate 8 character password (will be output to .txt file)\n",
        "edit_password = \"\" #@param {type:\"string\"}\n",
        "#@markdown - Password to edit PDF; leave blank to generate 50 character password (will be discarded for security)\n",
        "#@markdown ---\n",
        "#@markdown ### Additional options\n",
        "verify_zip = True #@param {type:\"boolean\"}\n",
        "#@markdown - Runs checks on files inside .zip; may be helpful to turn off if critical errors appear\n",
        "format_tolerance = \"strict\" #@param [\"strict\", \"lenient\"]\n",
        "#@markdown - Sets tolerance for option detection; may be helpful to set to 'lenient' if there are human errors in formatting\n",
        "randomise_options = False #@param {type:\"boolean\"}\n",
        "#@markdown - Randomises option order; helpful if you are generating a custom paper for your own practice"
      ],
      "metadata": {
        "cellView": "form",
        "id": "P5O91N5bLeJu"
      },
      "execution_count": null,
      "outputs": []
    },
    {
      "cell_type": "code",
      "source": [
        "#@title Connect to GDrive\n",
        "from google.colab import drive\n",
        "\n",
        "drive_path = '/content/drive'\n",
        "drive.mount(drive_path)"
      ],
      "metadata": {
        "cellView": "form",
        "id": "5770Lfbm07Xp",
        "collapsed": true
      },
      "execution_count": null,
      "outputs": []
    },
    {
      "cell_type": "code",
      "execution_count": null,
      "metadata": {
        "id": "BBte9mv6iDiG",
        "cellView": "form",
        "collapsed": true
      },
      "outputs": [],
      "source": [
        "#@title Install dependencies\n",
        "!pip install weasyprint==52.5\n",
        "!pip install rpy2==3.5.1\n",
        "!pip install pikepdf==2.11.1\n",
        "!wget https://raw.githubusercontent.com/thammatthew/UQF/main/UQF.R -O \"UQF.R\"\n",
        "!wget https://raw.githubusercontent.com/thammatthew/UQF/main/styles.css -O \"styles.css\""
      ]
    },
    {
      "cell_type": "code",
      "source": [
        "#@title Import libraries and set variables\n",
        "from weasyprint import HTML, CSS\n",
        "import os\n",
        "\n",
        "local_path = os.path.join(drive_path, 'MyDrive', folder_name)\n",
        "uqf_zip_file_path = os.path.join(local_path, uqf_zip_file_name)\n",
        "!cp \"$uqf_zip_file_path\" \"$uqf_zip_file_name\"\n",
        "\n",
        "%load_ext rpy2.ipython"
      ],
      "metadata": {
        "id": "6D4Qwvf5iTnt",
        "cellView": "form",
        "collapsed": true
      },
      "execution_count": null,
      "outputs": []
    },
    {
      "cell_type": "code",
      "source": [
        "#@title Convert UQF to HTML\n",
        "%%R -i uqf_zip_file_name,verify_zip,format_tolerance,randomise_options,title\n",
        "install.packages(\"commonmark\")\n",
        "source(\"UQF.R\")\n",
        "uqf <- uqf_to_html(uqf_zip_file_name, verify = verify_zip, mode = format_tolerance, randomise_op = randomise_options, title = title)"
      ],
      "metadata": {
        "id": "8zS-uL9Onsp9",
        "cellView": "form",
        "collapsed": true
      },
      "execution_count": null,
      "outputs": []
    },
    {
      "cell_type": "code",
      "source": [
        "#@title Convert HTML to PDF\n",
        "from weasyprint import HTML, CSS\n",
        "import os\n",
        "css = CSS(\"styles.css\")\n",
        "\n",
        "q_html_filename = os.path.splitext(uqf_zip_file_name)[0]+\" - Questions.html\"\n",
        "q_pdf_filename = os.path.splitext(uqf_zip_file_name)[0]+\" - Questions.pdf\"\n",
        "q_pdf_path = os.path.join(local_path, q_pdf_filename)\n",
        "html = HTML(q_html_filename)\n",
        "html.write_pdf(q_pdf_path, stylesheets = [css])\n",
        "\n",
        "qna_html_filename = os.path.splitext(uqf_zip_file_name)[0]+\" - Answers.html\"\n",
        "qna_pdf_filename = os.path.splitext(uqf_zip_file_name)[0]+\" - Answers.pdf\"\n",
        "qna_pdf_path = os.path.join(local_path, qna_pdf_filename)\n",
        "html = HTML(qna_html_filename)\n",
        "html.write_pdf(qna_pdf_path, stylesheets = [css])"
      ],
      "metadata": {
        "id": "kykrD4cLijzd",
        "collapsed": true,
        "cellView": "form"
      },
      "execution_count": null,
      "outputs": []
    },
    {
      "cell_type": "code",
      "source": [
        "#@title Password protect PDF\n",
        "if password_protect:\n",
        "  import secrets\n",
        "  import string\n",
        "\n",
        "  charset = string.ascii_letters + string.digits + string.punctuation\n",
        "  if not view_password:\n",
        "    view_password = ''.join(secrets.choice(charset) for i in range(8))\n",
        "  if not edit_password:\n",
        "    edit_password = ''.join(secrets.choice(charset) for i in range(50))\n",
        "\n",
        "  import pikepdf\n",
        "  from pikepdf import Pdf\n",
        "\n",
        "  permissions = pikepdf.Permissions(\n",
        "      accessibility = False,\n",
        "      extract = False,\n",
        "      modify_annotation = False,\n",
        "      modify_assembly = False,\n",
        "      modify_form = False,\n",
        "      modify_other = False,\n",
        "      print_highres = False,\n",
        "      print_lowres = False\n",
        "  )\n",
        "  encryption = pikepdf.Encryption(\n",
        "      user = view_password,\n",
        "      owner = edit_password,\n",
        "      allow = permissions,\n",
        "      metadata = True\n",
        "  )\n",
        "      \n",
        "  q_pdf = Pdf.open(q_pdf_path, allow_overwriting_input = True)\n",
        "  q_pdf.save(q_pdf_path, encryption = encryption)\n",
        "\n",
        "  qna_pdf = Pdf.open(qna_pdf_path, allow_overwriting_input = True)\n",
        "  qna_pdf.save(qna_pdf_path, encryption = encryption)\n",
        "\n",
        "  pwd_filename = os.path.splitext(uqf_zip_file_name)[0]+\" - Password.txt\"\n",
        "  pwd_path = os.path.join(local_path, pwd_filename)\n",
        "\n",
        "  print(view_password)\n",
        "\n",
        "  with open(pwd_path, 'w') as f:\n",
        "      f.write(view_password)\n",
        "\n",
        "  view_password = \"\"\n",
        "  edit_password = \"\""
      ],
      "metadata": {
        "cellView": "form",
        "id": "oSEfw1cCt1KK"
      },
      "execution_count": null,
      "outputs": []
    },
    {
      "cell_type": "markdown",
      "source": [
        "# Help & credits\n",
        "\n",
        "- Direct any queries/bug reports to Matthew Tham (@thammatthew on Tele)\n",
        "- All code (this notebook, R script & CSS stylesheet) available at https://github.com/thammatthew/UQF"
      ],
      "metadata": {
        "id": "f04qLUpzWIlI"
      }
    }
  ]
}